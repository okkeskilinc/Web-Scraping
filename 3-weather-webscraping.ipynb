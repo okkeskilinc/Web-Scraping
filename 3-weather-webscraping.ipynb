{
 "cells": [
  {
   "cell_type": "code",
   "execution_count": 1,
   "id": "778a4726",
   "metadata": {},
   "outputs": [],
   "source": [
    "import requests\n",
    "import pandas as pd\n",
    "from bs4 import BeautifulSoup as BSoup"
   ]
  },
  {
   "cell_type": "code",
   "execution_count": 2,
   "id": "eb54cd3a",
   "metadata": {},
   "outputs": [
    {
     "data": {
      "text/plain": [
       "<Response [200]>"
      ]
     },
     "execution_count": 2,
     "metadata": {},
     "output_type": "execute_result"
    }
   ],
   "source": [
    "url=\"https://forecast.weather.gov/MapClick.php?lat=37.7772&lon=-122.4168\"\n",
    "page=requests.get(url)\n",
    "page"
   ]
  },
  {
   "cell_type": "code",
   "execution_count": 3,
   "id": "55499b99",
   "metadata": {},
   "outputs": [],
   "source": [
    "soup=BSoup(page.content,\"html.parser\")"
   ]
  },
  {
   "cell_type": "code",
   "execution_count": 8,
   "id": "3fd3e3ab",
   "metadata": {},
   "outputs": [
    {
     "name": "stdout",
     "output_type": "stream",
     "text": [
      "<li class=\"forecast-tombstone\">\n",
      " <div class=\"tombstone-container\">\n",
      "  <p class=\"period-name\">\n",
      "   Today\n",
      "   <br/>\n",
      "   <br/>\n",
      "  </p>\n",
      "  <p>\n",
      "   <img alt=\"Today: Sunny, with a high near 66. Light and variable wind becoming west 8 to 13 mph in the afternoon. \" class=\"forecast-icon\" src=\"newimages/medium/skc.png\" title=\"Today: Sunny, with a high near 66. Light and variable wind becoming west 8 to 13 mph in the afternoon. \"/>\n",
      "  </p>\n",
      "  <p class=\"short-desc\">\n",
      "   Sunny\n",
      "  </p>\n",
      "  <p class=\"temp temp-high\">\n",
      "   High: 66 °F\n",
      "  </p>\n",
      " </div>\n",
      "</li>\n",
      "\n"
     ]
    }
   ],
   "source": [
    "seven_day=soup.find(id=\"seven-day-forecast\")\n",
    "forecast_items=seven_day.find_all(class_=\"forecast-tombstone\")\n",
    "tonight=forecast_items[0]\n",
    "print(tonight.prettify())"
   ]
  },
  {
   "cell_type": "code",
   "execution_count": 9,
   "id": "7ada81a8",
   "metadata": {},
   "outputs": [
    {
     "name": "stdout",
     "output_type": "stream",
     "text": [
      "Today\n",
      "Sunny\n",
      "High: 66 °F\n"
     ]
    }
   ],
   "source": [
    "period=tonight.find(class_=\"period-name\").text\n",
    "short_desc=tonight.find(class_=\"short-desc\").text\n",
    "temp=tonight.find(class_=\"temp\").text\n",
    "print(period)\n",
    "print(short_desc)\n",
    "print(temp)"
   ]
  },
  {
   "cell_type": "code",
   "execution_count": 10,
   "id": "3541bc8e",
   "metadata": {},
   "outputs": [
    {
     "name": "stdout",
     "output_type": "stream",
     "text": [
      "Today: Sunny, with a high near 66. Light and variable wind becoming west 8 to 13 mph in the afternoon. \n"
     ]
    }
   ],
   "source": [
    "img=tonight.find('img')\n",
    "desc=img['title']\n",
    "print(desc)"
   ]
  },
  {
   "cell_type": "code",
   "execution_count": 11,
   "id": "1c3b6fb5",
   "metadata": {},
   "outputs": [
    {
     "name": "stdout",
     "output_type": "stream",
     "text": [
      "['Today', 'Tonight', 'Sunday', 'SundayNight', 'Monday', 'MondayNight', 'Tuesday', 'TuesdayNight', 'Wednesday']\n"
     ]
    }
   ],
   "source": [
    "period_tags=seven_day.select(\".tombstone-container .period-name\")\n",
    "periods=[pt.text for pt in period_tags]\n",
    "print(periods)"
   ]
  },
  {
   "cell_type": "code",
   "execution_count": 12,
   "id": "e2d168b5",
   "metadata": {},
   "outputs": [
    {
     "name": "stdout",
     "output_type": "stream",
     "text": [
      "['Sunny', 'Mostly Clear', 'Sunny', 'Mostly Clear', 'Sunny', 'Partly Cloudy', 'Mostly Sunny', 'Mostly Clear', 'Sunny']\n"
     ]
    }
   ],
   "source": [
    "short_tags=seven_day.select(\".tombstone-container .short-desc\")\n",
    "shorts=[st.text for st in short_tags]\n",
    "print(shorts)"
   ]
  },
  {
   "cell_type": "code",
   "execution_count": 13,
   "id": "557379a3",
   "metadata": {},
   "outputs": [
    {
     "name": "stdout",
     "output_type": "stream",
     "text": [
      "['High: 66 °F', 'Low: 49 °F', 'High: 66 °F', 'Low: 49 °F', 'High: 66 °F', 'Low: 49 °F', 'High: 62 °F', 'Low: 47 °F', 'High: 61 °F']\n"
     ]
    }
   ],
   "source": [
    "temp_tags=seven_day.select(\".tombstone-container .temp\")\n",
    "temps=[tt.text for tt in temp_tags]\n",
    "print(temps)"
   ]
  },
  {
   "cell_type": "code",
   "execution_count": 14,
   "id": "1b542992",
   "metadata": {},
   "outputs": [
    {
     "name": "stdout",
     "output_type": "stream",
     "text": [
      "['Today: Sunny, with a high near 66. Light and variable wind becoming west 8 to 13 mph in the afternoon. ', 'Tonight: Mostly clear, with a low around 49. North northwest wind 5 to 8 mph becoming calm. ', 'Sunday: Sunny, with a high near 66. East northeast wind 6 to 10 mph. ', 'Sunday Night: Mostly clear, with a low around 49. Calm wind becoming north northeast around 5 mph in the evening. ', 'Monday: Sunny, with a high near 66. Calm wind becoming north around 5 mph in the morning. ', 'Monday Night: Partly cloudy, with a low around 49.', 'Tuesday: Mostly sunny, with a high near 62.', 'Tuesday Night: Mostly clear, with a low around 47.', 'Wednesday: Sunny, with a high near 61.']\n"
     ]
    }
   ],
   "source": [
    "img_tags=seven_day.select(\".tombstone-container img\")\n",
    "descs=[d['title'] for d in img_tags]\n",
    "print(descs)"
   ]
  },
  {
   "cell_type": "code",
   "execution_count": 15,
   "id": "f259e596",
   "metadata": {},
   "outputs": [],
   "source": [
    "weather=pd.DataFrame({\n",
    "    \"period\":periods,\n",
    "    \"short\":shorts,\n",
    "    \"temp\":temps,\n",
    "    \"desc\":descs\n",
    "})"
   ]
  },
  {
   "cell_type": "code",
   "execution_count": 16,
   "id": "f25f1204",
   "metadata": {},
   "outputs": [
    {
     "data": {
      "text/html": [
       "<div>\n",
       "<style scoped>\n",
       "    .dataframe tbody tr th:only-of-type {\n",
       "        vertical-align: middle;\n",
       "    }\n",
       "\n",
       "    .dataframe tbody tr th {\n",
       "        vertical-align: top;\n",
       "    }\n",
       "\n",
       "    .dataframe thead th {\n",
       "        text-align: right;\n",
       "    }\n",
       "</style>\n",
       "<table border=\"1\" class=\"dataframe\">\n",
       "  <thead>\n",
       "    <tr style=\"text-align: right;\">\n",
       "      <th></th>\n",
       "      <th>period</th>\n",
       "      <th>short</th>\n",
       "      <th>temp</th>\n",
       "      <th>desc</th>\n",
       "    </tr>\n",
       "  </thead>\n",
       "  <tbody>\n",
       "    <tr>\n",
       "      <th>0</th>\n",
       "      <td>Today</td>\n",
       "      <td>Sunny</td>\n",
       "      <td>High: 66 °F</td>\n",
       "      <td>Today: Sunny, with a high near 66. Light and v...</td>\n",
       "    </tr>\n",
       "    <tr>\n",
       "      <th>1</th>\n",
       "      <td>Tonight</td>\n",
       "      <td>Mostly Clear</td>\n",
       "      <td>Low: 49 °F</td>\n",
       "      <td>Tonight: Mostly clear, with a low around 49. N...</td>\n",
       "    </tr>\n",
       "    <tr>\n",
       "      <th>2</th>\n",
       "      <td>Sunday</td>\n",
       "      <td>Sunny</td>\n",
       "      <td>High: 66 °F</td>\n",
       "      <td>Sunday: Sunny, with a high near 66. East north...</td>\n",
       "    </tr>\n",
       "    <tr>\n",
       "      <th>3</th>\n",
       "      <td>SundayNight</td>\n",
       "      <td>Mostly Clear</td>\n",
       "      <td>Low: 49 °F</td>\n",
       "      <td>Sunday Night: Mostly clear, with a low around ...</td>\n",
       "    </tr>\n",
       "    <tr>\n",
       "      <th>4</th>\n",
       "      <td>Monday</td>\n",
       "      <td>Sunny</td>\n",
       "      <td>High: 66 °F</td>\n",
       "      <td>Monday: Sunny, with a high near 66. Calm wind ...</td>\n",
       "    </tr>\n",
       "    <tr>\n",
       "      <th>5</th>\n",
       "      <td>MondayNight</td>\n",
       "      <td>Partly Cloudy</td>\n",
       "      <td>Low: 49 °F</td>\n",
       "      <td>Monday Night: Partly cloudy, with a low around...</td>\n",
       "    </tr>\n",
       "    <tr>\n",
       "      <th>6</th>\n",
       "      <td>Tuesday</td>\n",
       "      <td>Mostly Sunny</td>\n",
       "      <td>High: 62 °F</td>\n",
       "      <td>Tuesday: Mostly sunny, with a high near 62.</td>\n",
       "    </tr>\n",
       "    <tr>\n",
       "      <th>7</th>\n",
       "      <td>TuesdayNight</td>\n",
       "      <td>Mostly Clear</td>\n",
       "      <td>Low: 47 °F</td>\n",
       "      <td>Tuesday Night: Mostly clear, with a low around...</td>\n",
       "    </tr>\n",
       "    <tr>\n",
       "      <th>8</th>\n",
       "      <td>Wednesday</td>\n",
       "      <td>Sunny</td>\n",
       "      <td>High: 61 °F</td>\n",
       "      <td>Wednesday: Sunny, with a high near 61.</td>\n",
       "    </tr>\n",
       "  </tbody>\n",
       "</table>\n",
       "</div>"
      ],
      "text/plain": [
       "         period          short         temp  \\\n",
       "0         Today          Sunny  High: 66 °F   \n",
       "1       Tonight   Mostly Clear   Low: 49 °F   \n",
       "2        Sunday          Sunny  High: 66 °F   \n",
       "3   SundayNight   Mostly Clear   Low: 49 °F   \n",
       "4        Monday          Sunny  High: 66 °F   \n",
       "5   MondayNight  Partly Cloudy   Low: 49 °F   \n",
       "6       Tuesday   Mostly Sunny  High: 62 °F   \n",
       "7  TuesdayNight   Mostly Clear   Low: 47 °F   \n",
       "8     Wednesday          Sunny  High: 61 °F   \n",
       "\n",
       "                                                desc  \n",
       "0  Today: Sunny, with a high near 66. Light and v...  \n",
       "1  Tonight: Mostly clear, with a low around 49. N...  \n",
       "2  Sunday: Sunny, with a high near 66. East north...  \n",
       "3  Sunday Night: Mostly clear, with a low around ...  \n",
       "4  Monday: Sunny, with a high near 66. Calm wind ...  \n",
       "5  Monday Night: Partly cloudy, with a low around...  \n",
       "6        Tuesday: Mostly sunny, with a high near 62.  \n",
       "7  Tuesday Night: Mostly clear, with a low around...  \n",
       "8             Wednesday: Sunny, with a high near 61.  "
      ]
     },
     "execution_count": 16,
     "metadata": {},
     "output_type": "execute_result"
    }
   ],
   "source": [
    "weather"
   ]
  },
  {
   "cell_type": "code",
   "execution_count": 20,
   "id": "79dc01d2",
   "metadata": {},
   "outputs": [],
   "source": [
    "temp_nums=weather[\"temp\"].str.extract(\"(\\d+)\", expand=False)"
   ]
  },
  {
   "cell_type": "code",
   "execution_count": 22,
   "id": "51dc2c59",
   "metadata": {},
   "outputs": [],
   "source": [
    "weather[\"temp_num\"]=temp_nums.astype('int')"
   ]
  },
  {
   "cell_type": "code",
   "execution_count": 24,
   "id": "64aa941b",
   "metadata": {},
   "outputs": [
    {
     "data": {
      "text/plain": [
       "57.22222222222222"
      ]
     },
     "execution_count": 24,
     "metadata": {},
     "output_type": "execute_result"
    }
   ],
   "source": [
    "weather[\"temp_num\"].mean()"
   ]
  },
  {
   "cell_type": "code",
   "execution_count": 33,
   "id": "4d83c583",
   "metadata": {},
   "outputs": [],
   "source": [
    "is_night=weather[\"temp\"].str.contains(\"Low\")\n",
    "weather[\"is_night\"]=is_night"
   ]
  },
  {
   "cell_type": "code",
   "execution_count": 34,
   "id": "53995e09",
   "metadata": {},
   "outputs": [
    {
     "data": {
      "text/html": [
       "<div>\n",
       "<style scoped>\n",
       "    .dataframe tbody tr th:only-of-type {\n",
       "        vertical-align: middle;\n",
       "    }\n",
       "\n",
       "    .dataframe tbody tr th {\n",
       "        vertical-align: top;\n",
       "    }\n",
       "\n",
       "    .dataframe thead th {\n",
       "        text-align: right;\n",
       "    }\n",
       "</style>\n",
       "<table border=\"1\" class=\"dataframe\">\n",
       "  <thead>\n",
       "    <tr style=\"text-align: right;\">\n",
       "      <th></th>\n",
       "      <th>period</th>\n",
       "      <th>short</th>\n",
       "      <th>temp</th>\n",
       "      <th>desc</th>\n",
       "      <th>temp_num</th>\n",
       "      <th>is_night</th>\n",
       "    </tr>\n",
       "  </thead>\n",
       "  <tbody>\n",
       "    <tr>\n",
       "      <th>1</th>\n",
       "      <td>Tonight</td>\n",
       "      <td>Mostly Clear</td>\n",
       "      <td>Low: 49 °F</td>\n",
       "      <td>Tonight: Mostly clear, with a low around 49. N...</td>\n",
       "      <td>49</td>\n",
       "      <td>True</td>\n",
       "    </tr>\n",
       "    <tr>\n",
       "      <th>3</th>\n",
       "      <td>SundayNight</td>\n",
       "      <td>Mostly Clear</td>\n",
       "      <td>Low: 49 °F</td>\n",
       "      <td>Sunday Night: Mostly clear, with a low around ...</td>\n",
       "      <td>49</td>\n",
       "      <td>True</td>\n",
       "    </tr>\n",
       "    <tr>\n",
       "      <th>5</th>\n",
       "      <td>MondayNight</td>\n",
       "      <td>Partly Cloudy</td>\n",
       "      <td>Low: 49 °F</td>\n",
       "      <td>Monday Night: Partly cloudy, with a low around...</td>\n",
       "      <td>49</td>\n",
       "      <td>True</td>\n",
       "    </tr>\n",
       "    <tr>\n",
       "      <th>7</th>\n",
       "      <td>TuesdayNight</td>\n",
       "      <td>Mostly Clear</td>\n",
       "      <td>Low: 47 °F</td>\n",
       "      <td>Tuesday Night: Mostly clear, with a low around...</td>\n",
       "      <td>47</td>\n",
       "      <td>True</td>\n",
       "    </tr>\n",
       "  </tbody>\n",
       "</table>\n",
       "</div>"
      ],
      "text/plain": [
       "         period          short        temp  \\\n",
       "1       Tonight   Mostly Clear  Low: 49 °F   \n",
       "3   SundayNight   Mostly Clear  Low: 49 °F   \n",
       "5   MondayNight  Partly Cloudy  Low: 49 °F   \n",
       "7  TuesdayNight   Mostly Clear  Low: 47 °F   \n",
       "\n",
       "                                                desc  temp_num  is_night  \n",
       "1  Tonight: Mostly clear, with a low around 49. N...        49      True  \n",
       "3  Sunday Night: Mostly clear, with a low around ...        49      True  \n",
       "5  Monday Night: Partly cloudy, with a low around...        49      True  \n",
       "7  Tuesday Night: Mostly clear, with a low around...        47      True  "
      ]
     },
     "execution_count": 34,
     "metadata": {},
     "output_type": "execute_result"
    }
   ],
   "source": [
    "weather[is_night]"
   ]
  },
  {
   "cell_type": "code",
   "execution_count": null,
   "id": "539bd8c3",
   "metadata": {},
   "outputs": [],
   "source": []
  }
 ],
 "metadata": {
  "kernelspec": {
   "display_name": "Python 3",
   "language": "python",
   "name": "python3"
  },
  "language_info": {
   "codemirror_mode": {
    "name": "ipython",
    "version": 3
   },
   "file_extension": ".py",
   "mimetype": "text/x-python",
   "name": "python",
   "nbconvert_exporter": "python",
   "pygments_lexer": "ipython3",
   "version": "3.8.8"
  }
 },
 "nbformat": 4,
 "nbformat_minor": 5
}
